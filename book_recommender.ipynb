{
 "cells": [
  {
   "cell_type": "markdown",
   "id": "49628c6e",
   "metadata": {},
   "source": [
    "# Importing Libraries"
   ]
  },
  {
   "cell_type": "code",
   "execution_count": 1,
   "id": "ff15014f",
   "metadata": {},
   "outputs": [],
   "source": [
    "import numpy as np\n",
    "import pandas as pd\n",
    "import matplotlib.pyplot as plt \n",
    "import seaborn as sns"
   ]
  },
  {
   "cell_type": "markdown",
   "id": "7bade764",
   "metadata": {},
   "source": [
    "# Importing Data"
   ]
  },
  {
   "cell_type": "code",
   "execution_count": 2,
   "id": "c08b18af",
   "metadata": {},
   "outputs": [
    {
     "name": "stderr",
     "output_type": "stream",
     "text": [
      "C:\\Users\\ahmed_3hijq3m\\AppData\\Local\\Temp\\ipykernel_11676\\2987874911.py:1: DtypeWarning: Columns (3) have mixed types. Specify dtype option on import or set low_memory=False.\n",
      "  books = pd.read_csv('BX-Books.csv', sep=';', encoding='ISO-8859-1', on_bad_lines='skip')\n"
     ]
    }
   ],
   "source": [
    "books = pd.read_csv('BX-Books.csv', sep=';', encoding='ISO-8859-1', on_bad_lines='skip')"
   ]
  },
  {
   "cell_type": "code",
   "execution_count": 3,
   "id": "5339eb38",
   "metadata": {},
   "outputs": [],
   "source": [
    "users = pd.read_csv('BX-Users.csv', sep=';', encoding='ISO-8859-1', on_bad_lines='skip')"
   ]
  },
  {
   "cell_type": "code",
   "execution_count": 4,
   "id": "56c42f01",
   "metadata": {},
   "outputs": [],
   "source": [
    "ratings = pd.read_csv('BX-Book-Ratings.csv', sep=';', encoding='ISO-8859-1', on_bad_lines='skip')\n"
   ]
  },
  {
   "cell_type": "markdown",
   "id": "47218d1f",
   "metadata": {},
   "source": [
    "# Data Cleaning"
   ]
  },
  {
   "cell_type": "code",
   "execution_count": 5,
   "id": "6f566c4e",
   "metadata": {},
   "outputs": [
    {
     "name": "stdout",
     "output_type": "stream",
     "text": [
      "(271360, 8)\n",
      "(278858, 3)\n",
      "(1149780, 3)\n"
     ]
    }
   ],
   "source": [
    "print(books.shape)\n",
    "print(users.shape)\n",
    "print(ratings.shape)"
   ]
  },
  {
   "cell_type": "markdown",
   "id": "e6bf5550",
   "metadata": {},
   "source": [
    "### Books"
   ]
  },
  {
   "cell_type": "code",
   "execution_count": 6,
   "id": "797e716a",
   "metadata": {},
   "outputs": [
    {
     "data": {
      "text/html": [
       "<div>\n",
       "<style scoped>\n",
       "    .dataframe tbody tr th:only-of-type {\n",
       "        vertical-align: middle;\n",
       "    }\n",
       "\n",
       "    .dataframe tbody tr th {\n",
       "        vertical-align: top;\n",
       "    }\n",
       "\n",
       "    .dataframe thead th {\n",
       "        text-align: right;\n",
       "    }\n",
       "</style>\n",
       "<table border=\"1\" class=\"dataframe\">\n",
       "  <thead>\n",
       "    <tr style=\"text-align: right;\">\n",
       "      <th></th>\n",
       "      <th>ISBN</th>\n",
       "      <th>Book-Title</th>\n",
       "      <th>Book-Author</th>\n",
       "      <th>Year-Of-Publication</th>\n",
       "      <th>Publisher</th>\n",
       "      <th>Image-URL-S</th>\n",
       "      <th>Image-URL-M</th>\n",
       "      <th>Image-URL-L</th>\n",
       "    </tr>\n",
       "  </thead>\n",
       "  <tbody>\n",
       "    <tr>\n",
       "      <th>0</th>\n",
       "      <td>0195153448</td>\n",
       "      <td>Classical Mythology</td>\n",
       "      <td>Mark P. O. Morford</td>\n",
       "      <td>2002</td>\n",
       "      <td>Oxford University Press</td>\n",
       "      <td>http://images.amazon.com/images/P/0195153448.0...</td>\n",
       "      <td>http://images.amazon.com/images/P/0195153448.0...</td>\n",
       "      <td>http://images.amazon.com/images/P/0195153448.0...</td>\n",
       "    </tr>\n",
       "    <tr>\n",
       "      <th>1</th>\n",
       "      <td>0002005018</td>\n",
       "      <td>Clara Callan</td>\n",
       "      <td>Richard Bruce Wright</td>\n",
       "      <td>2001</td>\n",
       "      <td>HarperFlamingo Canada</td>\n",
       "      <td>http://images.amazon.com/images/P/0002005018.0...</td>\n",
       "      <td>http://images.amazon.com/images/P/0002005018.0...</td>\n",
       "      <td>http://images.amazon.com/images/P/0002005018.0...</td>\n",
       "    </tr>\n",
       "    <tr>\n",
       "      <th>2</th>\n",
       "      <td>0060973129</td>\n",
       "      <td>Decision in Normandy</td>\n",
       "      <td>Carlo D'Este</td>\n",
       "      <td>1991</td>\n",
       "      <td>HarperPerennial</td>\n",
       "      <td>http://images.amazon.com/images/P/0060973129.0...</td>\n",
       "      <td>http://images.amazon.com/images/P/0060973129.0...</td>\n",
       "      <td>http://images.amazon.com/images/P/0060973129.0...</td>\n",
       "    </tr>\n",
       "    <tr>\n",
       "      <th>3</th>\n",
       "      <td>0374157065</td>\n",
       "      <td>Flu: The Story of the Great Influenza Pandemic...</td>\n",
       "      <td>Gina Bari Kolata</td>\n",
       "      <td>1999</td>\n",
       "      <td>Farrar Straus Giroux</td>\n",
       "      <td>http://images.amazon.com/images/P/0374157065.0...</td>\n",
       "      <td>http://images.amazon.com/images/P/0374157065.0...</td>\n",
       "      <td>http://images.amazon.com/images/P/0374157065.0...</td>\n",
       "    </tr>\n",
       "    <tr>\n",
       "      <th>4</th>\n",
       "      <td>0393045218</td>\n",
       "      <td>The Mummies of Urumchi</td>\n",
       "      <td>E. J. W. Barber</td>\n",
       "      <td>1999</td>\n",
       "      <td>W. W. Norton &amp;amp; Company</td>\n",
       "      <td>http://images.amazon.com/images/P/0393045218.0...</td>\n",
       "      <td>http://images.amazon.com/images/P/0393045218.0...</td>\n",
       "      <td>http://images.amazon.com/images/P/0393045218.0...</td>\n",
       "    </tr>\n",
       "  </tbody>\n",
       "</table>\n",
       "</div>"
      ],
      "text/plain": [
       "         ISBN                                         Book-Title  \\\n",
       "0  0195153448                                Classical Mythology   \n",
       "1  0002005018                                       Clara Callan   \n",
       "2  0060973129                               Decision in Normandy   \n",
       "3  0374157065  Flu: The Story of the Great Influenza Pandemic...   \n",
       "4  0393045218                             The Mummies of Urumchi   \n",
       "\n",
       "            Book-Author Year-Of-Publication                   Publisher  \\\n",
       "0    Mark P. O. Morford                2002     Oxford University Press   \n",
       "1  Richard Bruce Wright                2001       HarperFlamingo Canada   \n",
       "2          Carlo D'Este                1991             HarperPerennial   \n",
       "3      Gina Bari Kolata                1999        Farrar Straus Giroux   \n",
       "4       E. J. W. Barber                1999  W. W. Norton &amp; Company   \n",
       "\n",
       "                                         Image-URL-S  \\\n",
       "0  http://images.amazon.com/images/P/0195153448.0...   \n",
       "1  http://images.amazon.com/images/P/0002005018.0...   \n",
       "2  http://images.amazon.com/images/P/0060973129.0...   \n",
       "3  http://images.amazon.com/images/P/0374157065.0...   \n",
       "4  http://images.amazon.com/images/P/0393045218.0...   \n",
       "\n",
       "                                         Image-URL-M  \\\n",
       "0  http://images.amazon.com/images/P/0195153448.0...   \n",
       "1  http://images.amazon.com/images/P/0002005018.0...   \n",
       "2  http://images.amazon.com/images/P/0060973129.0...   \n",
       "3  http://images.amazon.com/images/P/0374157065.0...   \n",
       "4  http://images.amazon.com/images/P/0393045218.0...   \n",
       "\n",
       "                                         Image-URL-L  \n",
       "0  http://images.amazon.com/images/P/0195153448.0...  \n",
       "1  http://images.amazon.com/images/P/0002005018.0...  \n",
       "2  http://images.amazon.com/images/P/0060973129.0...  \n",
       "3  http://images.amazon.com/images/P/0374157065.0...  \n",
       "4  http://images.amazon.com/images/P/0393045218.0...  "
      ]
     },
     "execution_count": 6,
     "metadata": {},
     "output_type": "execute_result"
    }
   ],
   "source": [
    "books.head()"
   ]
  },
  {
   "cell_type": "code",
   "execution_count": 7,
   "id": "cd4a7cc9",
   "metadata": {},
   "outputs": [],
   "source": [
    "books.rename(columns={'Book-Title': 'title', \n",
    "                      'Book-Author': 'author', \n",
    "                      'Year-Of-Publication': 'publish_year', \n",
    "                      'Publisher': 'publisher',\n",
    "                      'Image-URL-L': 'image_url'}, \n",
    "                      inplace=True)"
   ]
  },
  {
   "cell_type": "code",
   "execution_count": 8,
   "id": "27365386",
   "metadata": {},
   "outputs": [
    {
     "data": {
      "text/plain": [
       "ISBN            0\n",
       "title           0\n",
       "author          2\n",
       "publish_year    0\n",
       "publisher       2\n",
       "Image-URL-S     0\n",
       "Image-URL-M     0\n",
       "image_url       3\n",
       "dtype: int64"
      ]
     },
     "execution_count": 8,
     "metadata": {},
     "output_type": "execute_result"
    }
   ],
   "source": [
    "books.isnull().sum()"
   ]
  },
  {
   "cell_type": "code",
   "execution_count": 9,
   "id": "bb5370c4",
   "metadata": {},
   "outputs": [
    {
     "data": {
      "text/plain": [
       "ISBN            0\n",
       "title           0\n",
       "author          0\n",
       "publish_year    0\n",
       "publisher       0\n",
       "Image-URL-S     0\n",
       "Image-URL-M     0\n",
       "image_url       0\n",
       "dtype: int64"
      ]
     },
     "execution_count": 9,
     "metadata": {},
     "output_type": "execute_result"
    }
   ],
   "source": [
    "books.fillna({'author': '', \n",
    "              'publisher': '', \n",
    "              'image_url': ''}, \n",
    "              inplace=True)\n",
    "books.isnull().sum()"
   ]
  },
  {
   "cell_type": "code",
   "execution_count": 10,
   "id": "6381fc21",
   "metadata": {},
   "outputs": [
    {
     "data": {
      "text/plain": [
       "0"
      ]
     },
     "execution_count": 10,
     "metadata": {},
     "output_type": "execute_result"
    }
   ],
   "source": [
    "books.duplicated().sum()"
   ]
  },
  {
   "cell_type": "code",
   "execution_count": 11,
   "id": "780a27c9",
   "metadata": {},
   "outputs": [],
   "source": [
    "books.drop(columns=['Image-URL-S', 'Image-URL-M'], inplace=True)"
   ]
  },
  {
   "cell_type": "markdown",
   "id": "8cfc41c1",
   "metadata": {},
   "source": [
    "### Users"
   ]
  },
  {
   "cell_type": "code",
   "execution_count": 12,
   "id": "d0c6b223",
   "metadata": {},
   "outputs": [
    {
     "data": {
      "text/html": [
       "<div>\n",
       "<style scoped>\n",
       "    .dataframe tbody tr th:only-of-type {\n",
       "        vertical-align: middle;\n",
       "    }\n",
       "\n",
       "    .dataframe tbody tr th {\n",
       "        vertical-align: top;\n",
       "    }\n",
       "\n",
       "    .dataframe thead th {\n",
       "        text-align: right;\n",
       "    }\n",
       "</style>\n",
       "<table border=\"1\" class=\"dataframe\">\n",
       "  <thead>\n",
       "    <tr style=\"text-align: right;\">\n",
       "      <th></th>\n",
       "      <th>User-ID</th>\n",
       "      <th>Location</th>\n",
       "      <th>Age</th>\n",
       "    </tr>\n",
       "  </thead>\n",
       "  <tbody>\n",
       "    <tr>\n",
       "      <th>0</th>\n",
       "      <td>1</td>\n",
       "      <td>nyc, new york, usa</td>\n",
       "      <td>NaN</td>\n",
       "    </tr>\n",
       "    <tr>\n",
       "      <th>1</th>\n",
       "      <td>2</td>\n",
       "      <td>stockton, california, usa</td>\n",
       "      <td>18.0</td>\n",
       "    </tr>\n",
       "    <tr>\n",
       "      <th>2</th>\n",
       "      <td>3</td>\n",
       "      <td>moscow, yukon territory, russia</td>\n",
       "      <td>NaN</td>\n",
       "    </tr>\n",
       "    <tr>\n",
       "      <th>3</th>\n",
       "      <td>4</td>\n",
       "      <td>porto, v.n.gaia, portugal</td>\n",
       "      <td>17.0</td>\n",
       "    </tr>\n",
       "    <tr>\n",
       "      <th>4</th>\n",
       "      <td>5</td>\n",
       "      <td>farnborough, hants, united kingdom</td>\n",
       "      <td>NaN</td>\n",
       "    </tr>\n",
       "  </tbody>\n",
       "</table>\n",
       "</div>"
      ],
      "text/plain": [
       "   User-ID                            Location   Age\n",
       "0        1                  nyc, new york, usa   NaN\n",
       "1        2           stockton, california, usa  18.0\n",
       "2        3     moscow, yukon territory, russia   NaN\n",
       "3        4           porto, v.n.gaia, portugal  17.0\n",
       "4        5  farnborough, hants, united kingdom   NaN"
      ]
     },
     "execution_count": 12,
     "metadata": {},
     "output_type": "execute_result"
    }
   ],
   "source": [
    "users.head()"
   ]
  },
  {
   "cell_type": "code",
   "execution_count": 13,
   "id": "f57435d7",
   "metadata": {},
   "outputs": [],
   "source": [
    "users.rename(columns={'User-ID': 'user_id', \n",
    "                      'Location': 'location', \n",
    "                      'Age': 'age'}, \n",
    "                      inplace=True)"
   ]
  },
  {
   "cell_type": "code",
   "execution_count": 14,
   "id": "32729596",
   "metadata": {},
   "outputs": [
    {
     "data": {
      "text/plain": [
       "user_id          0\n",
       "location         0\n",
       "age         110762\n",
       "dtype: int64"
      ]
     },
     "execution_count": 14,
     "metadata": {},
     "output_type": "execute_result"
    }
   ],
   "source": [
    "users.isnull().sum()"
   ]
  },
  {
   "cell_type": "code",
   "execution_count": 15,
   "id": "27fd6791",
   "metadata": {},
   "outputs": [
    {
     "data": {
      "text/plain": [
       "0"
      ]
     },
     "execution_count": 15,
     "metadata": {},
     "output_type": "execute_result"
    }
   ],
   "source": [
    "users.duplicated().sum()"
   ]
  },
  {
   "cell_type": "markdown",
   "id": "5b9d6842",
   "metadata": {},
   "source": [
    "### Ratings"
   ]
  },
  {
   "cell_type": "code",
   "execution_count": 16,
   "id": "3189a19e",
   "metadata": {},
   "outputs": [
    {
     "data": {
      "text/html": [
       "<div>\n",
       "<style scoped>\n",
       "    .dataframe tbody tr th:only-of-type {\n",
       "        vertical-align: middle;\n",
       "    }\n",
       "\n",
       "    .dataframe tbody tr th {\n",
       "        vertical-align: top;\n",
       "    }\n",
       "\n",
       "    .dataframe thead th {\n",
       "        text-align: right;\n",
       "    }\n",
       "</style>\n",
       "<table border=\"1\" class=\"dataframe\">\n",
       "  <thead>\n",
       "    <tr style=\"text-align: right;\">\n",
       "      <th></th>\n",
       "      <th>User-ID</th>\n",
       "      <th>ISBN</th>\n",
       "      <th>Book-Rating</th>\n",
       "    </tr>\n",
       "  </thead>\n",
       "  <tbody>\n",
       "    <tr>\n",
       "      <th>0</th>\n",
       "      <td>276725</td>\n",
       "      <td>034545104X</td>\n",
       "      <td>0</td>\n",
       "    </tr>\n",
       "    <tr>\n",
       "      <th>1</th>\n",
       "      <td>276726</td>\n",
       "      <td>0155061224</td>\n",
       "      <td>5</td>\n",
       "    </tr>\n",
       "    <tr>\n",
       "      <th>2</th>\n",
       "      <td>276727</td>\n",
       "      <td>0446520802</td>\n",
       "      <td>0</td>\n",
       "    </tr>\n",
       "    <tr>\n",
       "      <th>3</th>\n",
       "      <td>276729</td>\n",
       "      <td>052165615X</td>\n",
       "      <td>3</td>\n",
       "    </tr>\n",
       "    <tr>\n",
       "      <th>4</th>\n",
       "      <td>276729</td>\n",
       "      <td>0521795028</td>\n",
       "      <td>6</td>\n",
       "    </tr>\n",
       "  </tbody>\n",
       "</table>\n",
       "</div>"
      ],
      "text/plain": [
       "   User-ID        ISBN  Book-Rating\n",
       "0   276725  034545104X            0\n",
       "1   276726  0155061224            5\n",
       "2   276727  0446520802            0\n",
       "3   276729  052165615X            3\n",
       "4   276729  0521795028            6"
      ]
     },
     "execution_count": 16,
     "metadata": {},
     "output_type": "execute_result"
    }
   ],
   "source": [
    "ratings.head()"
   ]
  },
  {
   "cell_type": "code",
   "execution_count": 17,
   "id": "21ad4cb1",
   "metadata": {},
   "outputs": [],
   "source": [
    "ratings.rename(columns={'User-ID': 'user_id', \n",
    "                        'Book-Rating': 'rating'}, \n",
    "                        inplace=True)"
   ]
  },
  {
   "cell_type": "code",
   "execution_count": 18,
   "id": "a6651a3a",
   "metadata": {},
   "outputs": [
    {
     "data": {
      "text/plain": [
       "user_id    0\n",
       "ISBN       0\n",
       "rating     0\n",
       "dtype: int64"
      ]
     },
     "execution_count": 18,
     "metadata": {},
     "output_type": "execute_result"
    }
   ],
   "source": [
    "ratings.isnull().sum()"
   ]
  },
  {
   "cell_type": "code",
   "execution_count": 19,
   "id": "ce47782d",
   "metadata": {},
   "outputs": [
    {
     "data": {
      "text/plain": [
       "0"
      ]
     },
     "execution_count": 19,
     "metadata": {},
     "output_type": "execute_result"
    }
   ],
   "source": [
    "ratings.duplicated().sum()"
   ]
  },
  {
   "cell_type": "code",
   "execution_count": 20,
   "id": "155c506b",
   "metadata": {},
   "outputs": [
    {
     "data": {
      "text/plain": [
       "Index(['user_id', 'ISBN', 'rating'], dtype='object')"
      ]
     },
     "execution_count": 20,
     "metadata": {},
     "output_type": "execute_result"
    }
   ],
   "source": [
    "ratings.columns"
   ]
  },
  {
   "cell_type": "code",
   "execution_count": 21,
   "id": "a18bcd15",
   "metadata": {},
   "outputs": [
    {
     "data": {
      "text/html": [
       "<div>\n",
       "<style scoped>\n",
       "    .dataframe tbody tr th:only-of-type {\n",
       "        vertical-align: middle;\n",
       "    }\n",
       "\n",
       "    .dataframe tbody tr th {\n",
       "        vertical-align: top;\n",
       "    }\n",
       "\n",
       "    .dataframe thead th {\n",
       "        text-align: right;\n",
       "    }\n",
       "</style>\n",
       "<table border=\"1\" class=\"dataframe\">\n",
       "  <thead>\n",
       "    <tr style=\"text-align: right;\">\n",
       "      <th></th>\n",
       "      <th>user_id</th>\n",
       "      <th>ISBN</th>\n",
       "      <th>rating</th>\n",
       "    </tr>\n",
       "  </thead>\n",
       "  <tbody>\n",
       "    <tr>\n",
       "      <th>0</th>\n",
       "      <td>276725</td>\n",
       "      <td>034545104X</td>\n",
       "      <td>0</td>\n",
       "    </tr>\n",
       "    <tr>\n",
       "      <th>1</th>\n",
       "      <td>276726</td>\n",
       "      <td>0155061224</td>\n",
       "      <td>5</td>\n",
       "    </tr>\n",
       "    <tr>\n",
       "      <th>2</th>\n",
       "      <td>276727</td>\n",
       "      <td>0446520802</td>\n",
       "      <td>0</td>\n",
       "    </tr>\n",
       "    <tr>\n",
       "      <th>3</th>\n",
       "      <td>276729</td>\n",
       "      <td>052165615X</td>\n",
       "      <td>3</td>\n",
       "    </tr>\n",
       "    <tr>\n",
       "      <th>4</th>\n",
       "      <td>276729</td>\n",
       "      <td>0521795028</td>\n",
       "      <td>6</td>\n",
       "    </tr>\n",
       "    <tr>\n",
       "      <th>5</th>\n",
       "      <td>276733</td>\n",
       "      <td>2080674722</td>\n",
       "      <td>0</td>\n",
       "    </tr>\n",
       "    <tr>\n",
       "      <th>6</th>\n",
       "      <td>276736</td>\n",
       "      <td>3257224281</td>\n",
       "      <td>8</td>\n",
       "    </tr>\n",
       "    <tr>\n",
       "      <th>7</th>\n",
       "      <td>276737</td>\n",
       "      <td>0600570967</td>\n",
       "      <td>6</td>\n",
       "    </tr>\n",
       "    <tr>\n",
       "      <th>8</th>\n",
       "      <td>276744</td>\n",
       "      <td>038550120X</td>\n",
       "      <td>7</td>\n",
       "    </tr>\n",
       "    <tr>\n",
       "      <th>9</th>\n",
       "      <td>276745</td>\n",
       "      <td>342310538</td>\n",
       "      <td>10</td>\n",
       "    </tr>\n",
       "  </tbody>\n",
       "</table>\n",
       "</div>"
      ],
      "text/plain": [
       "   user_id        ISBN  rating\n",
       "0   276725  034545104X       0\n",
       "1   276726  0155061224       5\n",
       "2   276727  0446520802       0\n",
       "3   276729  052165615X       3\n",
       "4   276729  0521795028       6\n",
       "5   276733  2080674722       0\n",
       "6   276736  3257224281       8\n",
       "7   276737  0600570967       6\n",
       "8   276744  038550120X       7\n",
       "9   276745   342310538      10"
      ]
     },
     "execution_count": 21,
     "metadata": {},
     "output_type": "execute_result"
    }
   ],
   "source": [
    "ratings.head(10)"
   ]
  },
  {
   "cell_type": "code",
   "execution_count": 22,
   "id": "d67dcc56",
   "metadata": {},
   "outputs": [
    {
     "data": {
      "text/plain": [
       "(1149780, 3)"
      ]
     },
     "execution_count": 22,
     "metadata": {},
     "output_type": "execute_result"
    }
   ],
   "source": [
    "ratings.shape"
   ]
  },
  {
   "cell_type": "code",
   "execution_count": 23,
   "id": "058c9e86",
   "metadata": {},
   "outputs": [
    {
     "data": {
      "text/plain": [
       "(92186,)"
      ]
     },
     "execution_count": 23,
     "metadata": {},
     "output_type": "execute_result"
    }
   ],
   "source": [
    "# users rated less than 10\n",
    "user_rating_counts = ratings['user_id'].value_counts()\n",
    "user_rating_counts[user_rating_counts < 10].shape"
   ]
  },
  {
   "cell_type": "code",
   "execution_count": 24,
   "id": "b2ea4ca6",
   "metadata": {},
   "outputs": [
    {
     "data": {
      "text/plain": [
       "(965713, 3)"
      ]
     },
     "execution_count": 24,
     "metadata": {},
     "output_type": "execute_result"
    }
   ],
   "source": [
    "# keep users with 10 or more ratings\n",
    "users_with_10_or_more = user_rating_counts[user_rating_counts >= 10].index\n",
    "ratings = ratings[ratings['user_id'].isin(users_with_10_or_more)]\n",
    "ratings.shape"
   ]
  },
  {
   "cell_type": "markdown",
   "id": "8822f0bf",
   "metadata": {},
   "source": [
    "### Merged Data"
   ]
  },
  {
   "cell_type": "code",
   "execution_count": 25,
   "id": "93fc84a5",
   "metadata": {},
   "outputs": [
    {
     "data": {
      "text/plain": [
       "(877129, 8)"
      ]
     },
     "execution_count": 25,
     "metadata": {},
     "output_type": "execute_result"
    }
   ],
   "source": [
    "df = pd.merge(ratings, books, on='ISBN', how='inner')\n",
    "df.shape"
   ]
  },
  {
   "cell_type": "code",
   "execution_count": 26,
   "id": "c74ba3ff",
   "metadata": {},
   "outputs": [
    {
     "data": {
      "text/html": [
       "<div>\n",
       "<style scoped>\n",
       "    .dataframe tbody tr th:only-of-type {\n",
       "        vertical-align: middle;\n",
       "    }\n",
       "\n",
       "    .dataframe tbody tr th {\n",
       "        vertical-align: top;\n",
       "    }\n",
       "\n",
       "    .dataframe thead th {\n",
       "        text-align: right;\n",
       "    }\n",
       "</style>\n",
       "<table border=\"1\" class=\"dataframe\">\n",
       "  <thead>\n",
       "    <tr style=\"text-align: right;\">\n",
       "      <th></th>\n",
       "      <th>user_id</th>\n",
       "      <th>ISBN</th>\n",
       "      <th>rating</th>\n",
       "      <th>title</th>\n",
       "      <th>author</th>\n",
       "      <th>publish_year</th>\n",
       "      <th>publisher</th>\n",
       "      <th>image_url</th>\n",
       "    </tr>\n",
       "  </thead>\n",
       "  <tbody>\n",
       "    <tr>\n",
       "      <th>0</th>\n",
       "      <td>276762</td>\n",
       "      <td>034544003X</td>\n",
       "      <td>0</td>\n",
       "      <td>Southampton Row (Charlotte &amp;amp; Thomas Pitt N...</td>\n",
       "      <td>Anne Perry</td>\n",
       "      <td>2002</td>\n",
       "      <td>Ballantine Books</td>\n",
       "      <td>http://images.amazon.com/images/P/034544003X.0...</td>\n",
       "    </tr>\n",
       "    <tr>\n",
       "      <th>1</th>\n",
       "      <td>276762</td>\n",
       "      <td>0380000059</td>\n",
       "      <td>0</td>\n",
       "      <td>CLOUT</td>\n",
       "      <td>D. GIBBONS</td>\n",
       "      <td>2024</td>\n",
       "      <td>Avon</td>\n",
       "      <td>http://images.amazon.com/images/P/0380000059.0...</td>\n",
       "    </tr>\n",
       "  </tbody>\n",
       "</table>\n",
       "</div>"
      ],
      "text/plain": [
       "   user_id        ISBN  rating  \\\n",
       "0   276762  034544003X       0   \n",
       "1   276762  0380000059       0   \n",
       "\n",
       "                                               title      author publish_year  \\\n",
       "0  Southampton Row (Charlotte &amp; Thomas Pitt N...  Anne Perry         2002   \n",
       "1                                              CLOUT  D. GIBBONS         2024   \n",
       "\n",
       "          publisher                                          image_url  \n",
       "0  Ballantine Books  http://images.amazon.com/images/P/034544003X.0...  \n",
       "1              Avon  http://images.amazon.com/images/P/0380000059.0...  "
      ]
     },
     "execution_count": 26,
     "metadata": {},
     "output_type": "execute_result"
    }
   ],
   "source": [
    "df.head(2)"
   ]
  },
  {
   "cell_type": "code",
   "execution_count": 27,
   "id": "d11dc76d",
   "metadata": {},
   "outputs": [
    {
     "data": {
      "text/plain": [
       "224118"
      ]
     },
     "execution_count": 27,
     "metadata": {},
     "output_type": "execute_result"
    }
   ],
   "source": [
    "df.title.nunique()"
   ]
  },
  {
   "cell_type": "code",
   "execution_count": 28,
   "id": "232bf1c2",
   "metadata": {},
   "outputs": [
    {
     "data": {
      "text/plain": [
       "(235904,)"
      ]
     },
     "execution_count": 28,
     "metadata": {},
     "output_type": "execute_result"
    }
   ],
   "source": [
    "# books with less than 10 ratings\n",
    "book_rating_counts = df['ISBN'].value_counts()\n",
    "book_rating_counts[book_rating_counts < 10].shape"
   ]
  },
  {
   "cell_type": "code",
   "execution_count": 29,
   "id": "2e62ac22",
   "metadata": {},
   "outputs": [
    {
     "data": {
      "text/plain": [
       "(409439, 8)"
      ]
     },
     "execution_count": 29,
     "metadata": {},
     "output_type": "execute_result"
    }
   ],
   "source": [
    "# remove books with less than 10 books\n",
    "books_with_10_or_more = book_rating_counts[book_rating_counts >= 10].index\n",
    "df = df[df['ISBN'].isin(books_with_10_or_more)]\n",
    "df.shape"
   ]
  },
  {
   "cell_type": "code",
   "execution_count": 30,
   "id": "b3ee9b19",
   "metadata": {},
   "outputs": [
    {
     "data": {
      "text/html": [
       "<div>\n",
       "<style scoped>\n",
       "    .dataframe tbody tr th:only-of-type {\n",
       "        vertical-align: middle;\n",
       "    }\n",
       "\n",
       "    .dataframe tbody tr th {\n",
       "        vertical-align: top;\n",
       "    }\n",
       "\n",
       "    .dataframe thead th {\n",
       "        text-align: right;\n",
       "    }\n",
       "</style>\n",
       "<table border=\"1\" class=\"dataframe\">\n",
       "  <thead>\n",
       "    <tr style=\"text-align: right;\">\n",
       "      <th></th>\n",
       "      <th>user_id</th>\n",
       "      <th>ISBN</th>\n",
       "      <th>rating</th>\n",
       "      <th>title</th>\n",
       "      <th>author</th>\n",
       "      <th>publish_year</th>\n",
       "      <th>publisher</th>\n",
       "      <th>image_url</th>\n",
       "    </tr>\n",
       "  </thead>\n",
       "  <tbody>\n",
       "    <tr>\n",
       "      <th>0</th>\n",
       "      <td>276762</td>\n",
       "      <td>034544003X</td>\n",
       "      <td>0</td>\n",
       "      <td>Southampton Row (Charlotte &amp;amp; Thomas Pitt N...</td>\n",
       "      <td>Anne Perry</td>\n",
       "      <td>2002</td>\n",
       "      <td>Ballantine Books</td>\n",
       "      <td>http://images.amazon.com/images/P/034544003X.0...</td>\n",
       "    </tr>\n",
       "    <tr>\n",
       "      <th>2</th>\n",
       "      <td>276762</td>\n",
       "      <td>0380711524</td>\n",
       "      <td>5</td>\n",
       "      <td>See Jane Run</td>\n",
       "      <td>Joy Fielding</td>\n",
       "      <td>1992</td>\n",
       "      <td>Avon</td>\n",
       "      <td>http://images.amazon.com/images/P/0380711524.0...</td>\n",
       "    </tr>\n",
       "    <tr>\n",
       "      <th>3</th>\n",
       "      <td>276762</td>\n",
       "      <td>0451167317</td>\n",
       "      <td>0</td>\n",
       "      <td>The Dark Half</td>\n",
       "      <td>Stephen King</td>\n",
       "      <td>1994</td>\n",
       "      <td>Signet Book</td>\n",
       "      <td>http://images.amazon.com/images/P/0451167317.0...</td>\n",
       "    </tr>\n",
       "    <tr>\n",
       "      <th>31</th>\n",
       "      <td>276798</td>\n",
       "      <td>3548603203</td>\n",
       "      <td>6</td>\n",
       "      <td>Artemis Fowl.</td>\n",
       "      <td>Eoin Colfer</td>\n",
       "      <td>2003</td>\n",
       "      <td>Ullstein TB-Vlg</td>\n",
       "      <td>http://images.amazon.com/images/P/3548603203.0...</td>\n",
       "    </tr>\n",
       "    <tr>\n",
       "      <th>44</th>\n",
       "      <td>276822</td>\n",
       "      <td>0060096195</td>\n",
       "      <td>10</td>\n",
       "      <td>The Boy Next Door</td>\n",
       "      <td>Meggin Cabot</td>\n",
       "      <td>2002</td>\n",
       "      <td>Avon Trade</td>\n",
       "      <td>http://images.amazon.com/images/P/0060096195.0...</td>\n",
       "    </tr>\n",
       "  </tbody>\n",
       "</table>\n",
       "</div>"
      ],
      "text/plain": [
       "    user_id        ISBN  rating  \\\n",
       "0    276762  034544003X       0   \n",
       "2    276762  0380711524       5   \n",
       "3    276762  0451167317       0   \n",
       "31   276798  3548603203       6   \n",
       "44   276822  0060096195      10   \n",
       "\n",
       "                                                title        author  \\\n",
       "0   Southampton Row (Charlotte &amp; Thomas Pitt N...    Anne Perry   \n",
       "2                                        See Jane Run  Joy Fielding   \n",
       "3                                       The Dark Half  Stephen King   \n",
       "31                                      Artemis Fowl.   Eoin Colfer   \n",
       "44                                  The Boy Next Door  Meggin Cabot   \n",
       "\n",
       "   publish_year         publisher  \\\n",
       "0          2002  Ballantine Books   \n",
       "2          1992              Avon   \n",
       "3          1994       Signet Book   \n",
       "31         2003   Ullstein TB-Vlg   \n",
       "44         2002        Avon Trade   \n",
       "\n",
       "                                            image_url  \n",
       "0   http://images.amazon.com/images/P/034544003X.0...  \n",
       "2   http://images.amazon.com/images/P/0380711524.0...  \n",
       "3   http://images.amazon.com/images/P/0451167317.0...  \n",
       "31  http://images.amazon.com/images/P/3548603203.0...  \n",
       "44  http://images.amazon.com/images/P/0060096195.0...  "
      ]
     },
     "execution_count": 30,
     "metadata": {},
     "output_type": "execute_result"
    }
   ],
   "source": [
    "df.head()"
   ]
  },
  {
   "cell_type": "code",
   "execution_count": 31,
   "id": "86d364dd",
   "metadata": {},
   "outputs": [
    {
     "data": {
      "text/html": [
       "<div>\n",
       "<style scoped>\n",
       "    .dataframe tbody tr th:only-of-type {\n",
       "        vertical-align: middle;\n",
       "    }\n",
       "\n",
       "    .dataframe tbody tr th {\n",
       "        vertical-align: top;\n",
       "    }\n",
       "\n",
       "    .dataframe thead th {\n",
       "        text-align: right;\n",
       "    }\n",
       "</style>\n",
       "<table border=\"1\" class=\"dataframe\">\n",
       "  <thead>\n",
       "    <tr style=\"text-align: right;\">\n",
       "      <th></th>\n",
       "      <th>user_id</th>\n",
       "      <th>ISBN</th>\n",
       "      <th>rating</th>\n",
       "      <th>title</th>\n",
       "      <th>author</th>\n",
       "      <th>publish_year</th>\n",
       "      <th>publisher</th>\n",
       "      <th>image_url</th>\n",
       "    </tr>\n",
       "  </thead>\n",
       "  <tbody>\n",
       "    <tr>\n",
       "      <th>0</th>\n",
       "      <td>276762</td>\n",
       "      <td>034544003X</td>\n",
       "      <td>0</td>\n",
       "      <td>Southampton Row (Charlotte &amp;amp; Thomas Pitt N...</td>\n",
       "      <td>Anne Perry</td>\n",
       "      <td>2002</td>\n",
       "      <td>Ballantine Books</td>\n",
       "      <td>http://images.amazon.com/images/P/034544003X.0...</td>\n",
       "    </tr>\n",
       "    <tr>\n",
       "      <th>1</th>\n",
       "      <td>276762</td>\n",
       "      <td>0380711524</td>\n",
       "      <td>5</td>\n",
       "      <td>See Jane Run</td>\n",
       "      <td>Joy Fielding</td>\n",
       "      <td>1992</td>\n",
       "      <td>Avon</td>\n",
       "      <td>http://images.amazon.com/images/P/0380711524.0...</td>\n",
       "    </tr>\n",
       "    <tr>\n",
       "      <th>2</th>\n",
       "      <td>276762</td>\n",
       "      <td>0451167317</td>\n",
       "      <td>0</td>\n",
       "      <td>The Dark Half</td>\n",
       "      <td>Stephen King</td>\n",
       "      <td>1994</td>\n",
       "      <td>Signet Book</td>\n",
       "      <td>http://images.amazon.com/images/P/0451167317.0...</td>\n",
       "    </tr>\n",
       "    <tr>\n",
       "      <th>3</th>\n",
       "      <td>276798</td>\n",
       "      <td>3548603203</td>\n",
       "      <td>6</td>\n",
       "      <td>Artemis Fowl.</td>\n",
       "      <td>Eoin Colfer</td>\n",
       "      <td>2003</td>\n",
       "      <td>Ullstein TB-Vlg</td>\n",
       "      <td>http://images.amazon.com/images/P/3548603203.0...</td>\n",
       "    </tr>\n",
       "    <tr>\n",
       "      <th>4</th>\n",
       "      <td>276822</td>\n",
       "      <td>0060096195</td>\n",
       "      <td>10</td>\n",
       "      <td>The Boy Next Door</td>\n",
       "      <td>Meggin Cabot</td>\n",
       "      <td>2002</td>\n",
       "      <td>Avon Trade</td>\n",
       "      <td>http://images.amazon.com/images/P/0060096195.0...</td>\n",
       "    </tr>\n",
       "  </tbody>\n",
       "</table>\n",
       "</div>"
      ],
      "text/plain": [
       "   user_id        ISBN  rating  \\\n",
       "0   276762  034544003X       0   \n",
       "1   276762  0380711524       5   \n",
       "2   276762  0451167317       0   \n",
       "3   276798  3548603203       6   \n",
       "4   276822  0060096195      10   \n",
       "\n",
       "                                               title        author  \\\n",
       "0  Southampton Row (Charlotte &amp; Thomas Pitt N...    Anne Perry   \n",
       "1                                       See Jane Run  Joy Fielding   \n",
       "2                                      The Dark Half  Stephen King   \n",
       "3                                      Artemis Fowl.   Eoin Colfer   \n",
       "4                                  The Boy Next Door  Meggin Cabot   \n",
       "\n",
       "  publish_year         publisher  \\\n",
       "0         2002  Ballantine Books   \n",
       "1         1992              Avon   \n",
       "2         1994       Signet Book   \n",
       "3         2003   Ullstein TB-Vlg   \n",
       "4         2002        Avon Trade   \n",
       "\n",
       "                                           image_url  \n",
       "0  http://images.amazon.com/images/P/034544003X.0...  \n",
       "1  http://images.amazon.com/images/P/0380711524.0...  \n",
       "2  http://images.amazon.com/images/P/0451167317.0...  \n",
       "3  http://images.amazon.com/images/P/3548603203.0...  \n",
       "4  http://images.amazon.com/images/P/0060096195.0...  "
      ]
     },
     "execution_count": 31,
     "metadata": {},
     "output_type": "execute_result"
    }
   ],
   "source": [
    "df.reset_index(drop=True, inplace=True)\n",
    "df.head()"
   ]
  },
  {
   "cell_type": "markdown",
   "id": "88b19286",
   "metadata": {},
   "source": [
    "# EDA"
   ]
  },
  {
   "cell_type": "code",
   "execution_count": 32,
   "id": "90c0c3e2",
   "metadata": {},
   "outputs": [
    {
     "name": "stdout",
     "output_type": "stream",
     "text": [
      "Num of Users:  12490\n",
      "Num of Books:  13150\n"
     ]
    }
   ],
   "source": [
    "print('Num of Users: ', df['user_id'].nunique())\n",
    "print('Num of Books: ', df['title'].nunique())"
   ]
  },
  {
   "cell_type": "code",
   "execution_count": 33,
   "id": "e7270692",
   "metadata": {},
   "outputs": [
    {
     "data": {
      "text/plain": [
       "count    409439.000000\n",
       "mean          2.606462\n",
       "std           3.808343\n",
       "min           0.000000\n",
       "25%           0.000000\n",
       "50%           0.000000\n",
       "75%           7.000000\n",
       "max          10.000000\n",
       "Name: rating, dtype: float64"
      ]
     },
     "execution_count": 33,
     "metadata": {},
     "output_type": "execute_result"
    }
   ],
   "source": [
    "df['rating'].describe()"
   ]
  },
  {
   "cell_type": "code",
   "execution_count": 34,
   "id": "342210b9",
   "metadata": {},
   "outputs": [
    {
     "data": {
      "text/plain": [
       "publisher\n",
       "Ballantine Books            21221\n",
       "Pocket                      20014\n",
       "Berkley Publishing Group    18830\n",
       "Warner Books                15719\n",
       "Bantam                      13543\n",
       "                            ...  \n",
       "V. Hamy                        10\n",
       "Adams Media Corp               10\n",
       "Du Palemon                     10\n",
       "Mondadori (IT)                 10\n",
       "Wunderlich im Rowohlt          10\n",
       "Name: count, Length: 869, dtype: int64"
      ]
     },
     "execution_count": 34,
     "metadata": {},
     "output_type": "execute_result"
    }
   ],
   "source": [
    "df['publisher'].value_counts()"
   ]
  },
  {
   "cell_type": "code",
   "execution_count": 35,
   "id": "01140823",
   "metadata": {},
   "outputs": [
    {
     "data": {
      "text/plain": [
       "author\n",
       "Stephen King            7502\n",
       "Nora Roberts            7071\n",
       "James Patterson         4536\n",
       "John Grisham            4368\n",
       "Mary Higgins Clark      3673\n",
       "                        ... \n",
       "Donna Morrissey           10\n",
       "Paul Watzlawick           10\n",
       "Tschingis Aitmatow        10\n",
       "Richard Bohringer         10\n",
       "Ildiko von KÃ?Â¼rthy      10\n",
       "Name: count, Length: 4719, dtype: int64"
      ]
     },
     "execution_count": 35,
     "metadata": {},
     "output_type": "execute_result"
    }
   ],
   "source": [
    "df['author'].value_counts()"
   ]
  },
  {
   "cell_type": "code",
   "execution_count": 36,
   "id": "81018e98",
   "metadata": {},
   "outputs": [
    {
     "data": {
      "text/plain": [
       "publish_year\n",
       "0        3118\n",
       "1920       29\n",
       "1927       17\n",
       "1929       12\n",
       "1930       37\n",
       "        ...  \n",
       "2002    43181\n",
       "2003    35014\n",
       "2004    11560\n",
       "2005       51\n",
       "2030       10\n",
       "Name: count, Length: 66, dtype: int64"
      ]
     },
     "execution_count": 36,
     "metadata": {},
     "output_type": "execute_result"
    }
   ],
   "source": [
    "df['publish_year'].value_counts().sort_index()"
   ]
  },
  {
   "cell_type": "code",
   "execution_count": 37,
   "id": "ce244301",
   "metadata": {},
   "outputs": [
    {
     "data": {
      "image/png": "[encoded data removed]",
      "text/plain": [
       "<Figure size 640x480 with 1 Axes>"
      ]
     },
     "metadata": {},
     "output_type": "display_data"
    }
   ],
   "source": [
    "df[df['publish_year']!=0]['publish_year'].plot(kind='hist', bins=20)\n",
    "plt.xlim(1920, 2005)\n",
    "plt.show()"
   ]
  },
  {
   "cell_type": "markdown",
   "id": "a7b61794",
   "metadata": {},
   "source": [
    "# Data Preprocessing"
   ]
  },
  {
   "cell_type": "markdown",
   "id": "b3a8b44c",
   "metadata": {},
   "source": [
    "### df"
   ]
  },
  {
   "cell_type": "code",
   "execution_count": 38,
   "id": "97d0add7",
   "metadata": {},
   "outputs": [
    {
     "data": {
      "text/html": [
       "<div>\n",
       "<style scoped>\n",
       "    .dataframe tbody tr th:only-of-type {\n",
       "        vertical-align: middle;\n",
       "    }\n",
       "\n",
       "    .dataframe tbody tr th {\n",
       "        vertical-align: top;\n",
       "    }\n",
       "\n",
       "    .dataframe thead th {\n",
       "        text-align: right;\n",
       "    }\n",
       "</style>\n",
       "<table border=\"1\" class=\"dataframe\">\n",
       "  <thead>\n",
       "    <tr style=\"text-align: right;\">\n",
       "      <th></th>\n",
       "      <th>user_id</th>\n",
       "      <th>ISBN</th>\n",
       "      <th>rating</th>\n",
       "      <th>title</th>\n",
       "      <th>author</th>\n",
       "      <th>publish_year</th>\n",
       "      <th>publisher</th>\n",
       "      <th>image_url</th>\n",
       "    </tr>\n",
       "  </thead>\n",
       "  <tbody>\n",
       "    <tr>\n",
       "      <th>0</th>\n",
       "      <td>276762</td>\n",
       "      <td>034544003X</td>\n",
       "      <td>0</td>\n",
       "      <td>Southampton Row (Charlotte &amp;amp; Thomas Pitt N...</td>\n",
       "      <td>Anne Perry</td>\n",
       "      <td>2002</td>\n",
       "      <td>Ballantine Books</td>\n",
       "      <td>http://images.amazon.com/images/P/034544003X.0...</td>\n",
       "    </tr>\n",
       "    <tr>\n",
       "      <th>1</th>\n",
       "      <td>276762</td>\n",
       "      <td>0380711524</td>\n",
       "      <td>5</td>\n",
       "      <td>See Jane Run</td>\n",
       "      <td>Joy Fielding</td>\n",
       "      <td>1992</td>\n",
       "      <td>Avon</td>\n",
       "      <td>http://images.amazon.com/images/P/0380711524.0...</td>\n",
       "    </tr>\n",
       "    <tr>\n",
       "      <th>2</th>\n",
       "      <td>276762</td>\n",
       "      <td>0451167317</td>\n",
       "      <td>0</td>\n",
       "      <td>The Dark Half</td>\n",
       "      <td>Stephen King</td>\n",
       "      <td>1994</td>\n",
       "      <td>Signet Book</td>\n",
       "      <td>http://images.amazon.com/images/P/0451167317.0...</td>\n",
       "    </tr>\n",
       "    <tr>\n",
       "      <th>3</th>\n",
       "      <td>276798</td>\n",
       "      <td>3548603203</td>\n",
       "      <td>6</td>\n",
       "      <td>Artemis Fowl.</td>\n",
       "      <td>Eoin Colfer</td>\n",
       "      <td>2003</td>\n",
       "      <td>Ullstein TB-Vlg</td>\n",
       "      <td>http://images.amazon.com/images/P/3548603203.0...</td>\n",
       "    </tr>\n",
       "    <tr>\n",
       "      <th>4</th>\n",
       "      <td>276822</td>\n",
       "      <td>0060096195</td>\n",
       "      <td>10</td>\n",
       "      <td>The Boy Next Door</td>\n",
       "      <td>Meggin Cabot</td>\n",
       "      <td>2002</td>\n",
       "      <td>Avon Trade</td>\n",
       "      <td>http://images.amazon.com/images/P/0060096195.0...</td>\n",
       "    </tr>\n",
       "  </tbody>\n",
       "</table>\n",
       "</div>"
      ],
      "text/plain": [
       "   user_id        ISBN  rating  \\\n",
       "0   276762  034544003X       0   \n",
       "1   276762  0380711524       5   \n",
       "2   276762  0451167317       0   \n",
       "3   276798  3548603203       6   \n",
       "4   276822  0060096195      10   \n",
       "\n",
       "                                               title        author  \\\n",
       "0  Southampton Row (Charlotte &amp; Thomas Pitt N...    Anne Perry   \n",
       "1                                       See Jane Run  Joy Fielding   \n",
       "2                                      The Dark Half  Stephen King   \n",
       "3                                      Artemis Fowl.   Eoin Colfer   \n",
       "4                                  The Boy Next Door  Meggin Cabot   \n",
       "\n",
       "  publish_year         publisher  \\\n",
       "0         2002  Ballantine Books   \n",
       "1         1992              Avon   \n",
       "2         1994       Signet Book   \n",
       "3         2003   Ullstein TB-Vlg   \n",
       "4         2002        Avon Trade   \n",
       "\n",
       "                                           image_url  \n",
       "0  http://images.amazon.com/images/P/034544003X.0...  \n",
       "1  http://images.amazon.com/images/P/0380711524.0...  \n",
       "2  http://images.amazon.com/images/P/0451167317.0...  \n",
       "3  http://images.amazon.com/images/P/3548603203.0...  \n",
       "4  http://images.amazon.com/images/P/0060096195.0...  "
      ]
     },
     "execution_count": 38,
     "metadata": {},
     "output_type": "execute_result"
    }
   ],
   "source": [
    "df.head()"
   ]
  },
  {
   "cell_type": "code",
   "execution_count": 39,
   "id": "b5233622",
   "metadata": {},
   "outputs": [
    {
     "data": {
      "text/html": [
       "<div>\n",
       "<style scoped>\n",
       "    .dataframe tbody tr th:only-of-type {\n",
       "        vertical-align: middle;\n",
       "    }\n",
       "\n",
       "    .dataframe tbody tr th {\n",
       "        vertical-align: top;\n",
       "    }\n",
       "\n",
       "    .dataframe thead th {\n",
       "        text-align: right;\n",
       "    }\n",
       "</style>\n",
       "<table border=\"1\" class=\"dataframe\">\n",
       "  <thead>\n",
       "    <tr style=\"text-align: right;\">\n",
       "      <th></th>\n",
       "      <th>user_id</th>\n",
       "      <th>ISBN</th>\n",
       "      <th>rating</th>\n",
       "      <th>title</th>\n",
       "      <th>author</th>\n",
       "      <th>publish_year</th>\n",
       "      <th>publisher</th>\n",
       "      <th>image_url</th>\n",
       "      <th>book_rating</th>\n",
       "    </tr>\n",
       "  </thead>\n",
       "  <tbody>\n",
       "    <tr>\n",
       "      <th>0</th>\n",
       "      <td>276762</td>\n",
       "      <td>034544003X</td>\n",
       "      <td>0</td>\n",
       "      <td>Southampton Row (Charlotte &amp;amp; Thomas Pitt N...</td>\n",
       "      <td>Anne Perry</td>\n",
       "      <td>2002</td>\n",
       "      <td>Ballantine Books</td>\n",
       "      <td>http://images.amazon.com/images/P/034544003X.0...</td>\n",
       "      <td>2.461538</td>\n",
       "    </tr>\n",
       "    <tr>\n",
       "      <th>1</th>\n",
       "      <td>276762</td>\n",
       "      <td>0380711524</td>\n",
       "      <td>5</td>\n",
       "      <td>See Jane Run</td>\n",
       "      <td>Joy Fielding</td>\n",
       "      <td>1992</td>\n",
       "      <td>Avon</td>\n",
       "      <td>http://images.amazon.com/images/P/0380711524.0...</td>\n",
       "      <td>2.511628</td>\n",
       "    </tr>\n",
       "    <tr>\n",
       "      <th>2</th>\n",
       "      <td>276762</td>\n",
       "      <td>0451167317</td>\n",
       "      <td>0</td>\n",
       "      <td>The Dark Half</td>\n",
       "      <td>Stephen King</td>\n",
       "      <td>1994</td>\n",
       "      <td>Signet Book</td>\n",
       "      <td>http://images.amazon.com/images/P/0451167317.0...</td>\n",
       "      <td>3.393939</td>\n",
       "    </tr>\n",
       "    <tr>\n",
       "      <th>3</th>\n",
       "      <td>276798</td>\n",
       "      <td>3548603203</td>\n",
       "      <td>6</td>\n",
       "      <td>Artemis Fowl.</td>\n",
       "      <td>Eoin Colfer</td>\n",
       "      <td>2003</td>\n",
       "      <td>Ullstein TB-Vlg</td>\n",
       "      <td>http://images.amazon.com/images/P/3548603203.0...</td>\n",
       "      <td>3.111111</td>\n",
       "    </tr>\n",
       "    <tr>\n",
       "      <th>4</th>\n",
       "      <td>276822</td>\n",
       "      <td>0060096195</td>\n",
       "      <td>10</td>\n",
       "      <td>The Boy Next Door</td>\n",
       "      <td>Meggin Cabot</td>\n",
       "      <td>2002</td>\n",
       "      <td>Avon Trade</td>\n",
       "      <td>http://images.amazon.com/images/P/0060096195.0...</td>\n",
       "      <td>3.630952</td>\n",
       "    </tr>\n",
       "  </tbody>\n",
       "</table>\n",
       "</div>"
      ],
      "text/plain": [
       "   user_id        ISBN  rating  \\\n",
       "0   276762  034544003X       0   \n",
       "1   276762  0380711524       5   \n",
       "2   276762  0451167317       0   \n",
       "3   276798  3548603203       6   \n",
       "4   276822  0060096195      10   \n",
       "\n",
       "                                               title        author  \\\n",
       "0  Southampton Row (Charlotte &amp; Thomas Pitt N...    Anne Perry   \n",
       "1                                       See Jane Run  Joy Fielding   \n",
       "2                                      The Dark Half  Stephen King   \n",
       "3                                      Artemis Fowl.   Eoin Colfer   \n",
       "4                                  The Boy Next Door  Meggin Cabot   \n",
       "\n",
       "  publish_year         publisher  \\\n",
       "0         2002  Ballantine Books   \n",
       "1         1992              Avon   \n",
       "2         1994       Signet Book   \n",
       "3         2003   Ullstein TB-Vlg   \n",
       "4         2002        Avon Trade   \n",
       "\n",
       "                                           image_url  book_rating  \n",
       "0  http://images.amazon.com/images/P/034544003X.0...     2.461538  \n",
       "1  http://images.amazon.com/images/P/0380711524.0...     2.511628  \n",
       "2  http://images.amazon.com/images/P/0451167317.0...     3.393939  \n",
       "3  http://images.amazon.com/images/P/3548603203.0...     3.111111  \n",
       "4  http://images.amazon.com/images/P/0060096195.0...     3.630952  "
      ]
     },
     "execution_count": 39,
     "metadata": {},
     "output_type": "execute_result"
    }
   ],
   "source": [
    "book_mean_ratings = df.groupby('ISBN')['rating'].transform('mean')\n",
    "df['book_rating'] = book_mean_ratings\n",
    "df.head()"
   ]
  },
  {
   "cell_type": "code",
   "execution_count": 40,
   "id": "e7da2503",
   "metadata": {},
   "outputs": [
    {
     "data": {
      "text/html": [
       "<div>\n",
       "<style scoped>\n",
       "    .dataframe tbody tr th:only-of-type {\n",
       "        vertical-align: middle;\n",
       "    }\n",
       "\n",
       "    .dataframe tbody tr th {\n",
       "        vertical-align: top;\n",
       "    }\n",
       "\n",
       "    .dataframe thead th {\n",
       "        text-align: right;\n",
       "    }\n",
       "</style>\n",
       "<table border=\"1\" class=\"dataframe\">\n",
       "  <thead>\n",
       "    <tr style=\"text-align: right;\">\n",
       "      <th></th>\n",
       "      <th>user_id</th>\n",
       "      <th>ISBN</th>\n",
       "      <th>rating</th>\n",
       "      <th>title</th>\n",
       "      <th>author</th>\n",
       "      <th>publish_year</th>\n",
       "      <th>publisher</th>\n",
       "      <th>image_url</th>\n",
       "      <th>book_rating</th>\n",
       "    </tr>\n",
       "  </thead>\n",
       "  <tbody>\n",
       "    <tr>\n",
       "      <th>1382</th>\n",
       "      <td>278356</td>\n",
       "      <td>0439139600</td>\n",
       "      <td>10</td>\n",
       "      <td>Harry Potter and the Goblet of Fire (Book 4)</td>\n",
       "      <td>J. K. Rowling</td>\n",
       "      <td>2002</td>\n",
       "      <td>Scholastic Paperbacks</td>\n",
       "      <td>http://images.amazon.com/images/P/0439139600.0...</td>\n",
       "      <td>4.884146</td>\n",
       "    </tr>\n",
       "    <tr>\n",
       "      <th>2562</th>\n",
       "      <td>254</td>\n",
       "      <td>0439139597</td>\n",
       "      <td>9</td>\n",
       "      <td>Harry Potter and the Goblet of Fire (Book 4)</td>\n",
       "      <td>J. K. Rowling</td>\n",
       "      <td>2000</td>\n",
       "      <td>Scholastic</td>\n",
       "      <td>http://images.amazon.com/images/P/0439139597.0...</td>\n",
       "      <td>6.564103</td>\n",
       "    </tr>\n",
       "    <tr>\n",
       "      <th>3694</th>\n",
       "      <td>1903</td>\n",
       "      <td>0439139597</td>\n",
       "      <td>0</td>\n",
       "      <td>Harry Potter and the Goblet of Fire (Book 4)</td>\n",
       "      <td>J. K. Rowling</td>\n",
       "      <td>2000</td>\n",
       "      <td>Scholastic</td>\n",
       "      <td>http://images.amazon.com/images/P/0439139597.0...</td>\n",
       "      <td>6.564103</td>\n",
       "    </tr>\n",
       "    <tr>\n",
       "      <th>3800</th>\n",
       "      <td>2033</td>\n",
       "      <td>0439139597</td>\n",
       "      <td>9</td>\n",
       "      <td>Harry Potter and the Goblet of Fire (Book 4)</td>\n",
       "      <td>J. K. Rowling</td>\n",
       "      <td>2000</td>\n",
       "      <td>Scholastic</td>\n",
       "      <td>http://images.amazon.com/images/P/0439139597.0...</td>\n",
       "      <td>6.564103</td>\n",
       "    </tr>\n",
       "    <tr>\n",
       "      <th>4528</th>\n",
       "      <td>2793</td>\n",
       "      <td>0439139600</td>\n",
       "      <td>0</td>\n",
       "      <td>Harry Potter and the Goblet of Fire (Book 4)</td>\n",
       "      <td>J. K. Rowling</td>\n",
       "      <td>2002</td>\n",
       "      <td>Scholastic Paperbacks</td>\n",
       "      <td>http://images.amazon.com/images/P/0439139600.0...</td>\n",
       "      <td>4.884146</td>\n",
       "    </tr>\n",
       "  </tbody>\n",
       "</table>\n",
       "</div>"
      ],
      "text/plain": [
       "      user_id        ISBN  rating  \\\n",
       "1382   278356  0439139600      10   \n",
       "2562      254  0439139597       9   \n",
       "3694     1903  0439139597       0   \n",
       "3800     2033  0439139597       9   \n",
       "4528     2793  0439139600       0   \n",
       "\n",
       "                                             title         author  \\\n",
       "1382  Harry Potter and the Goblet of Fire (Book 4)  J. K. Rowling   \n",
       "2562  Harry Potter and the Goblet of Fire (Book 4)  J. K. Rowling   \n",
       "3694  Harry Potter and the Goblet of Fire (Book 4)  J. K. Rowling   \n",
       "3800  Harry Potter and the Goblet of Fire (Book 4)  J. K. Rowling   \n",
       "4528  Harry Potter and the Goblet of Fire (Book 4)  J. K. Rowling   \n",
       "\n",
       "     publish_year              publisher  \\\n",
       "1382         2002  Scholastic Paperbacks   \n",
       "2562         2000             Scholastic   \n",
       "3694         2000             Scholastic   \n",
       "3800         2000             Scholastic   \n",
       "4528         2002  Scholastic Paperbacks   \n",
       "\n",
       "                                              image_url  book_rating  \n",
       "1382  http://images.amazon.com/images/P/0439139600.0...     4.884146  \n",
       "2562  http://images.amazon.com/images/P/0439139597.0...     6.564103  \n",
       "3694  http://images.amazon.com/images/P/0439139597.0...     6.564103  \n",
       "3800  http://images.amazon.com/images/P/0439139597.0...     6.564103  \n",
       "4528  http://images.amazon.com/images/P/0439139600.0...     4.884146  "
      ]
     },
     "execution_count": 40,
     "metadata": {},
     "output_type": "execute_result"
    }
   ],
   "source": [
    "# the book has 2 versions, each has its own rating\n",
    "df[df['title'] == 'Harry Potter and the Goblet of Fire (Book 4)'].head()"
   ]
  },
  {
   "cell_type": "code",
   "execution_count": 41,
   "id": "b486c4c3",
   "metadata": {},
   "outputs": [
    {
     "data": {
      "text/html": [
       "<div>\n",
       "<style scoped>\n",
       "    .dataframe tbody tr th:only-of-type {\n",
       "        vertical-align: middle;\n",
       "    }\n",
       "\n",
       "    .dataframe tbody tr th {\n",
       "        vertical-align: top;\n",
       "    }\n",
       "\n",
       "    .dataframe thead th {\n",
       "        text-align: right;\n",
       "    }\n",
       "</style>\n",
       "<table border=\"1\" class=\"dataframe\">\n",
       "  <thead>\n",
       "    <tr style=\"text-align: right;\">\n",
       "      <th></th>\n",
       "      <th>user_id</th>\n",
       "      <th>ISBN</th>\n",
       "      <th>rating</th>\n",
       "      <th>title</th>\n",
       "      <th>author</th>\n",
       "      <th>publish_year</th>\n",
       "      <th>publisher</th>\n",
       "      <th>image_url</th>\n",
       "      <th>book_rating</th>\n",
       "      <th>num_ratings</th>\n",
       "    </tr>\n",
       "  </thead>\n",
       "  <tbody>\n",
       "    <tr>\n",
       "      <th>0</th>\n",
       "      <td>276762</td>\n",
       "      <td>034544003X</td>\n",
       "      <td>0</td>\n",
       "      <td>Southampton Row (Charlotte &amp;amp; Thomas Pitt N...</td>\n",
       "      <td>Anne Perry</td>\n",
       "      <td>2002</td>\n",
       "      <td>Ballantine Books</td>\n",
       "      <td>http://images.amazon.com/images/P/034544003X.0...</td>\n",
       "      <td>2.461538</td>\n",
       "      <td>13</td>\n",
       "    </tr>\n",
       "    <tr>\n",
       "      <th>1</th>\n",
       "      <td>276762</td>\n",
       "      <td>0380711524</td>\n",
       "      <td>5</td>\n",
       "      <td>See Jane Run</td>\n",
       "      <td>Joy Fielding</td>\n",
       "      <td>1992</td>\n",
       "      <td>Avon</td>\n",
       "      <td>http://images.amazon.com/images/P/0380711524.0...</td>\n",
       "      <td>2.511628</td>\n",
       "      <td>43</td>\n",
       "    </tr>\n",
       "    <tr>\n",
       "      <th>2</th>\n",
       "      <td>276762</td>\n",
       "      <td>0451167317</td>\n",
       "      <td>0</td>\n",
       "      <td>The Dark Half</td>\n",
       "      <td>Stephen King</td>\n",
       "      <td>1994</td>\n",
       "      <td>Signet Book</td>\n",
       "      <td>http://images.amazon.com/images/P/0451167317.0...</td>\n",
       "      <td>3.393939</td>\n",
       "      <td>132</td>\n",
       "    </tr>\n",
       "    <tr>\n",
       "      <th>3</th>\n",
       "      <td>276798</td>\n",
       "      <td>3548603203</td>\n",
       "      <td>6</td>\n",
       "      <td>Artemis Fowl.</td>\n",
       "      <td>Eoin Colfer</td>\n",
       "      <td>2003</td>\n",
       "      <td>Ullstein TB-Vlg</td>\n",
       "      <td>http://images.amazon.com/images/P/3548603203.0...</td>\n",
       "      <td>3.111111</td>\n",
       "      <td>18</td>\n",
       "    </tr>\n",
       "    <tr>\n",
       "      <th>4</th>\n",
       "      <td>276822</td>\n",
       "      <td>0060096195</td>\n",
       "      <td>10</td>\n",
       "      <td>The Boy Next Door</td>\n",
       "      <td>Meggin Cabot</td>\n",
       "      <td>2002</td>\n",
       "      <td>Avon Trade</td>\n",
       "      <td>http://images.amazon.com/images/P/0060096195.0...</td>\n",
       "      <td>3.630952</td>\n",
       "      <td>84</td>\n",
       "    </tr>\n",
       "  </tbody>\n",
       "</table>\n",
       "</div>"
      ],
      "text/plain": [
       "   user_id        ISBN  rating  \\\n",
       "0   276762  034544003X       0   \n",
       "1   276762  0380711524       5   \n",
       "2   276762  0451167317       0   \n",
       "3   276798  3548603203       6   \n",
       "4   276822  0060096195      10   \n",
       "\n",
       "                                               title        author  \\\n",
       "0  Southampton Row (Charlotte &amp; Thomas Pitt N...    Anne Perry   \n",
       "1                                       See Jane Run  Joy Fielding   \n",
       "2                                      The Dark Half  Stephen King   \n",
       "3                                      Artemis Fowl.   Eoin Colfer   \n",
       "4                                  The Boy Next Door  Meggin Cabot   \n",
       "\n",
       "  publish_year         publisher  \\\n",
       "0         2002  Ballantine Books   \n",
       "1         1992              Avon   \n",
       "2         1994       Signet Book   \n",
       "3         2003   Ullstein TB-Vlg   \n",
       "4         2002        Avon Trade   \n",
       "\n",
       "                                           image_url  book_rating  num_ratings  \n",
       "0  http://images.amazon.com/images/P/034544003X.0...     2.461538           13  \n",
       "1  http://images.amazon.com/images/P/0380711524.0...     2.511628           43  \n",
       "2  http://images.amazon.com/images/P/0451167317.0...     3.393939          132  \n",
       "3  http://images.amazon.com/images/P/3548603203.0...     3.111111           18  \n",
       "4  http://images.amazon.com/images/P/0060096195.0...     3.630952           84  "
      ]
     },
     "execution_count": 41,
     "metadata": {},
     "output_type": "execute_result"
    }
   ],
   "source": [
    "book_num_ratings = df.groupby('ISBN')['rating'].transform('count')\n",
    "df['num_ratings'] = book_num_ratings\n",
    "df.head()"
   ]
  },
  {
   "cell_type": "code",
   "execution_count": 42,
   "id": "e2849bab",
   "metadata": {},
   "outputs": [
    {
     "data": {
      "text/html": [
       "<div>\n",
       "<style scoped>\n",
       "    .dataframe tbody tr th:only-of-type {\n",
       "        vertical-align: middle;\n",
       "    }\n",
       "\n",
       "    .dataframe tbody tr th {\n",
       "        vertical-align: top;\n",
       "    }\n",
       "\n",
       "    .dataframe thead th {\n",
       "        text-align: right;\n",
       "    }\n",
       "</style>\n",
       "<table border=\"1\" class=\"dataframe\">\n",
       "  <thead>\n",
       "    <tr style=\"text-align: right;\">\n",
       "      <th></th>\n",
       "      <th>user_id</th>\n",
       "      <th>ISBN</th>\n",
       "      <th>rating</th>\n",
       "      <th>title</th>\n",
       "      <th>author</th>\n",
       "      <th>publish_year</th>\n",
       "      <th>publisher</th>\n",
       "      <th>image_url</th>\n",
       "      <th>book_rating</th>\n",
       "      <th>num_ratings</th>\n",
       "    </tr>\n",
       "  </thead>\n",
       "  <tbody>\n",
       "    <tr>\n",
       "      <th>3</th>\n",
       "      <td>276798</td>\n",
       "      <td>3548603203</td>\n",
       "      <td>6</td>\n",
       "      <td>Artemis Fowl.</td>\n",
       "      <td>Eoin Colfer</td>\n",
       "      <td>2003</td>\n",
       "      <td>Ullstein TB-Vlg</td>\n",
       "      <td>http://images.amazon.com/images/P/3548603203.0...</td>\n",
       "      <td>3.111111</td>\n",
       "      <td>18</td>\n",
       "    </tr>\n",
       "    <tr>\n",
       "      <th>19718</th>\n",
       "      <td>11676</td>\n",
       "      <td>3548603203</td>\n",
       "      <td>9</td>\n",
       "      <td>Artemis Fowl.</td>\n",
       "      <td>Eoin Colfer</td>\n",
       "      <td>2003</td>\n",
       "      <td>Ullstein TB-Vlg</td>\n",
       "      <td>http://images.amazon.com/images/P/3548603203.0...</td>\n",
       "      <td>3.111111</td>\n",
       "      <td>18</td>\n",
       "    </tr>\n",
       "    <tr>\n",
       "      <th>119562</th>\n",
       "      <td>79590</td>\n",
       "      <td>3548603203</td>\n",
       "      <td>6</td>\n",
       "      <td>Artemis Fowl.</td>\n",
       "      <td>Eoin Colfer</td>\n",
       "      <td>2003</td>\n",
       "      <td>Ullstein TB-Vlg</td>\n",
       "      <td>http://images.amazon.com/images/P/3548603203.0...</td>\n",
       "      <td>3.111111</td>\n",
       "      <td>18</td>\n",
       "    </tr>\n",
       "    <tr>\n",
       "      <th>134157</th>\n",
       "      <td>90830</td>\n",
       "      <td>3548603203</td>\n",
       "      <td>6</td>\n",
       "      <td>Artemis Fowl.</td>\n",
       "      <td>Eoin Colfer</td>\n",
       "      <td>2003</td>\n",
       "      <td>Ullstein TB-Vlg</td>\n",
       "      <td>http://images.amazon.com/images/P/3548603203.0...</td>\n",
       "      <td>3.111111</td>\n",
       "      <td>18</td>\n",
       "    </tr>\n",
       "    <tr>\n",
       "      <th>180082</th>\n",
       "      <td>123947</td>\n",
       "      <td>3548603203</td>\n",
       "      <td>9</td>\n",
       "      <td>Artemis Fowl.</td>\n",
       "      <td>Eoin Colfer</td>\n",
       "      <td>2003</td>\n",
       "      <td>Ullstein TB-Vlg</td>\n",
       "      <td>http://images.amazon.com/images/P/3548603203.0...</td>\n",
       "      <td>3.111111</td>\n",
       "      <td>18</td>\n",
       "    </tr>\n",
       "    <tr>\n",
       "      <th>208548</th>\n",
       "      <td>141016</td>\n",
       "      <td>3548603203</td>\n",
       "      <td>0</td>\n",
       "      <td>Artemis Fowl.</td>\n",
       "      <td>Eoin Colfer</td>\n",
       "      <td>2003</td>\n",
       "      <td>Ullstein TB-Vlg</td>\n",
       "      <td>http://images.amazon.com/images/P/3548603203.0...</td>\n",
       "      <td>3.111111</td>\n",
       "      <td>18</td>\n",
       "    </tr>\n",
       "    <tr>\n",
       "      <th>235899</th>\n",
       "      <td>160405</td>\n",
       "      <td>3548603203</td>\n",
       "      <td>0</td>\n",
       "      <td>Artemis Fowl.</td>\n",
       "      <td>Eoin Colfer</td>\n",
       "      <td>2003</td>\n",
       "      <td>Ullstein TB-Vlg</td>\n",
       "      <td>http://images.amazon.com/images/P/3548603203.0...</td>\n",
       "      <td>3.111111</td>\n",
       "      <td>18</td>\n",
       "    </tr>\n",
       "    <tr>\n",
       "      <th>235941</th>\n",
       "      <td>160406</td>\n",
       "      <td>3548603203</td>\n",
       "      <td>0</td>\n",
       "      <td>Artemis Fowl.</td>\n",
       "      <td>Eoin Colfer</td>\n",
       "      <td>2003</td>\n",
       "      <td>Ullstein TB-Vlg</td>\n",
       "      <td>http://images.amazon.com/images/P/3548603203.0...</td>\n",
       "      <td>3.111111</td>\n",
       "      <td>18</td>\n",
       "    </tr>\n",
       "    <tr>\n",
       "      <th>235983</th>\n",
       "      <td>160407</td>\n",
       "      <td>3548603203</td>\n",
       "      <td>0</td>\n",
       "      <td>Artemis Fowl.</td>\n",
       "      <td>Eoin Colfer</td>\n",
       "      <td>2003</td>\n",
       "      <td>Ullstein TB-Vlg</td>\n",
       "      <td>http://images.amazon.com/images/P/3548603203.0...</td>\n",
       "      <td>3.111111</td>\n",
       "      <td>18</td>\n",
       "    </tr>\n",
       "    <tr>\n",
       "      <th>236025</th>\n",
       "      <td>160408</td>\n",
       "      <td>3548603203</td>\n",
       "      <td>0</td>\n",
       "      <td>Artemis Fowl.</td>\n",
       "      <td>Eoin Colfer</td>\n",
       "      <td>2003</td>\n",
       "      <td>Ullstein TB-Vlg</td>\n",
       "      <td>http://images.amazon.com/images/P/3548603203.0...</td>\n",
       "      <td>3.111111</td>\n",
       "      <td>18</td>\n",
       "    </tr>\n",
       "    <tr>\n",
       "      <th>236067</th>\n",
       "      <td>160409</td>\n",
       "      <td>3548603203</td>\n",
       "      <td>0</td>\n",
       "      <td>Artemis Fowl.</td>\n",
       "      <td>Eoin Colfer</td>\n",
       "      <td>2003</td>\n",
       "      <td>Ullstein TB-Vlg</td>\n",
       "      <td>http://images.amazon.com/images/P/3548603203.0...</td>\n",
       "      <td>3.111111</td>\n",
       "      <td>18</td>\n",
       "    </tr>\n",
       "    <tr>\n",
       "      <th>236108</th>\n",
       "      <td>160410</td>\n",
       "      <td>3548603203</td>\n",
       "      <td>0</td>\n",
       "      <td>Artemis Fowl.</td>\n",
       "      <td>Eoin Colfer</td>\n",
       "      <td>2003</td>\n",
       "      <td>Ullstein TB-Vlg</td>\n",
       "      <td>http://images.amazon.com/images/P/3548603203.0...</td>\n",
       "      <td>3.111111</td>\n",
       "      <td>18</td>\n",
       "    </tr>\n",
       "    <tr>\n",
       "      <th>236157</th>\n",
       "      <td>160413</td>\n",
       "      <td>3548603203</td>\n",
       "      <td>0</td>\n",
       "      <td>Artemis Fowl.</td>\n",
       "      <td>Eoin Colfer</td>\n",
       "      <td>2003</td>\n",
       "      <td>Ullstein TB-Vlg</td>\n",
       "      <td>http://images.amazon.com/images/P/3548603203.0...</td>\n",
       "      <td>3.111111</td>\n",
       "      <td>18</td>\n",
       "    </tr>\n",
       "    <tr>\n",
       "      <th>236199</th>\n",
       "      <td>160414</td>\n",
       "      <td>3548603203</td>\n",
       "      <td>0</td>\n",
       "      <td>Artemis Fowl.</td>\n",
       "      <td>Eoin Colfer</td>\n",
       "      <td>2003</td>\n",
       "      <td>Ullstein TB-Vlg</td>\n",
       "      <td>http://images.amazon.com/images/P/3548603203.0...</td>\n",
       "      <td>3.111111</td>\n",
       "      <td>18</td>\n",
       "    </tr>\n",
       "    <tr>\n",
       "      <th>236240</th>\n",
       "      <td>160415</td>\n",
       "      <td>3548603203</td>\n",
       "      <td>0</td>\n",
       "      <td>Artemis Fowl.</td>\n",
       "      <td>Eoin Colfer</td>\n",
       "      <td>2003</td>\n",
       "      <td>Ullstein TB-Vlg</td>\n",
       "      <td>http://images.amazon.com/images/P/3548603203.0...</td>\n",
       "      <td>3.111111</td>\n",
       "      <td>18</td>\n",
       "    </tr>\n",
       "    <tr>\n",
       "      <th>236281</th>\n",
       "      <td>160416</td>\n",
       "      <td>3548603203</td>\n",
       "      <td>0</td>\n",
       "      <td>Artemis Fowl.</td>\n",
       "      <td>Eoin Colfer</td>\n",
       "      <td>2003</td>\n",
       "      <td>Ullstein TB-Vlg</td>\n",
       "      <td>http://images.amazon.com/images/P/3548603203.0...</td>\n",
       "      <td>3.111111</td>\n",
       "      <td>18</td>\n",
       "    </tr>\n",
       "    <tr>\n",
       "      <th>246072</th>\n",
       "      <td>167492</td>\n",
       "      <td>3548603203</td>\n",
       "      <td>10</td>\n",
       "      <td>Artemis Fowl.</td>\n",
       "      <td>Eoin Colfer</td>\n",
       "      <td>2003</td>\n",
       "      <td>Ullstein TB-Vlg</td>\n",
       "      <td>http://images.amazon.com/images/P/3548603203.0...</td>\n",
       "      <td>3.111111</td>\n",
       "      <td>18</td>\n",
       "    </tr>\n",
       "    <tr>\n",
       "      <th>406374</th>\n",
       "      <td>274220</td>\n",
       "      <td>3548603203</td>\n",
       "      <td>10</td>\n",
       "      <td>Artemis Fowl.</td>\n",
       "      <td>Eoin Colfer</td>\n",
       "      <td>2003</td>\n",
       "      <td>Ullstein TB-Vlg</td>\n",
       "      <td>http://images.amazon.com/images/P/3548603203.0...</td>\n",
       "      <td>3.111111</td>\n",
       "      <td>18</td>\n",
       "    </tr>\n",
       "  </tbody>\n",
       "</table>\n",
       "</div>"
      ],
      "text/plain": [
       "        user_id        ISBN  rating          title       author publish_year  \\\n",
       "3        276798  3548603203       6  Artemis Fowl.  Eoin Colfer         2003   \n",
       "19718     11676  3548603203       9  Artemis Fowl.  Eoin Colfer         2003   \n",
       "119562    79590  3548603203       6  Artemis Fowl.  Eoin Colfer         2003   \n",
       "134157    90830  3548603203       6  Artemis Fowl.  Eoin Colfer         2003   \n",
       "180082   123947  3548603203       9  Artemis Fowl.  Eoin Colfer         2003   \n",
       "208548   141016  3548603203       0  Artemis Fowl.  Eoin Colfer         2003   \n",
       "235899   160405  3548603203       0  Artemis Fowl.  Eoin Colfer         2003   \n",
       "235941   160406  3548603203       0  Artemis Fowl.  Eoin Colfer         2003   \n",
       "235983   160407  3548603203       0  Artemis Fowl.  Eoin Colfer         2003   \n",
       "236025   160408  3548603203       0  Artemis Fowl.  Eoin Colfer         2003   \n",
       "236067   160409  3548603203       0  Artemis Fowl.  Eoin Colfer         2003   \n",
       "236108   160410  3548603203       0  Artemis Fowl.  Eoin Colfer         2003   \n",
       "236157   160413  3548603203       0  Artemis Fowl.  Eoin Colfer         2003   \n",
       "236199   160414  3548603203       0  Artemis Fowl.  Eoin Colfer         2003   \n",
       "236240   160415  3548603203       0  Artemis Fowl.  Eoin Colfer         2003   \n",
       "236281   160416  3548603203       0  Artemis Fowl.  Eoin Colfer         2003   \n",
       "246072   167492  3548603203      10  Artemis Fowl.  Eoin Colfer         2003   \n",
       "406374   274220  3548603203      10  Artemis Fowl.  Eoin Colfer         2003   \n",
       "\n",
       "              publisher                                          image_url  \\\n",
       "3       Ullstein TB-Vlg  http://images.amazon.com/images/P/3548603203.0...   \n",
       "19718   Ullstein TB-Vlg  http://images.amazon.com/images/P/3548603203.0...   \n",
       "119562  Ullstein TB-Vlg  http://images.amazon.com/images/P/3548603203.0...   \n",
       "134157  Ullstein TB-Vlg  http://images.amazon.com/images/P/3548603203.0...   \n",
       "180082  Ullstein TB-Vlg  http://images.amazon.com/images/P/3548603203.0...   \n",
       "208548  Ullstein TB-Vlg  http://images.amazon.com/images/P/3548603203.0...   \n",
       "235899  Ullstein TB-Vlg  http://images.amazon.com/images/P/3548603203.0...   \n",
       "235941  Ullstein TB-Vlg  http://images.amazon.com/images/P/3548603203.0...   \n",
       "235983  Ullstein TB-Vlg  http://images.amazon.com/images/P/3548603203.0...   \n",
       "236025  Ullstein TB-Vlg  http://images.amazon.com/images/P/3548603203.0...   \n",
       "236067  Ullstein TB-Vlg  http://images.amazon.com/images/P/3548603203.0...   \n",
       "236108  Ullstein TB-Vlg  http://images.amazon.com/images/P/3548603203.0...   \n",
       "236157  Ullstein TB-Vlg  http://images.amazon.com/images/P/3548603203.0...   \n",
       "236199  Ullstein TB-Vlg  http://images.amazon.com/images/P/3548603203.0...   \n",
       "236240  Ullstein TB-Vlg  http://images.amazon.com/images/P/3548603203.0...   \n",
       "236281  Ullstein TB-Vlg  http://images.amazon.com/images/P/3548603203.0...   \n",
       "246072  Ullstein TB-Vlg  http://images.amazon.com/images/P/3548603203.0...   \n",
       "406374  Ullstein TB-Vlg  http://images.amazon.com/images/P/3548603203.0...   \n",
       "\n",
       "        book_rating  num_ratings  \n",
       "3          3.111111           18  \n",
       "19718      3.111111           18  \n",
       "119562     3.111111           18  \n",
       "134157     3.111111           18  \n",
       "180082     3.111111           18  \n",
       "208548     3.111111           18  \n",
       "235899     3.111111           18  \n",
       "235941     3.111111           18  \n",
       "235983     3.111111           18  \n",
       "236025     3.111111           18  \n",
       "236067     3.111111           18  \n",
       "236108     3.111111           18  \n",
       "236157     3.111111           18  \n",
       "236199     3.111111           18  \n",
       "236240     3.111111           18  \n",
       "236281     3.111111           18  \n",
       "246072     3.111111           18  \n",
       "406374     3.111111           18  "
      ]
     },
     "execution_count": 42,
     "metadata": {},
     "output_type": "execute_result"
    }
   ],
   "source": [
    "# the book has 2 versions, each has its own rating\n",
    "df[df['title'] == 'Artemis Fowl.']"
   ]
  },
  {
   "cell_type": "code",
   "execution_count": 43,
   "id": "246f34bd",
   "metadata": {},
   "outputs": [],
   "source": [
    "df.to_csv('cleaned_df.csv')"
   ]
  },
  {
   "cell_type": "markdown",
   "id": "c0ee3026",
   "metadata": {},
   "source": [
    "### interaction matrix"
   ]
  },
  {
   "cell_type": "code",
   "execution_count": 44,
   "id": "ef9548ad",
   "metadata": {},
   "outputs": [
    {
     "data": {
      "text/plain": [
       "(12490, 14755)"
      ]
     },
     "execution_count": 44,
     "metadata": {},
     "output_type": "execute_result"
    }
   ],
   "source": [
    "interaction_matrix = df.pivot_table(index='user_id', columns='ISBN', values='rating', fill_value=0)\n",
    "interaction_matrix.shape"
   ]
  },
  {
   "cell_type": "code",
   "execution_count": 45,
   "id": "11cae504",
   "metadata": {},
   "outputs": [
    {
     "data": {
      "text/plain": [
       "0"
      ]
     },
     "execution_count": 45,
     "metadata": {},
     "output_type": "execute_result"
    }
   ],
   "source": [
    "interaction_matrix.isnull().sum().sum()"
   ]
  },
  {
   "cell_type": "code",
   "execution_count": 46,
   "id": "31e9c10b",
   "metadata": {},
   "outputs": [],
   "source": [
    "# # normalize ratings\n",
    "from sklearn.preprocessing import MinMaxScaler\n",
    "scaler = MinMaxScaler()\n",
    "user_item_matrix_scaled = scaler.fit_transform(interaction_matrix)"
   ]
  },
  {
   "cell_type": "code",
   "execution_count": 47,
   "id": "c259fac1",
   "metadata": {},
   "outputs": [
    {
     "data": {
      "text/plain": [
       "(12490, 14755)"
      ]
     },
     "execution_count": 47,
     "metadata": {},
     "output_type": "execute_result"
    }
   ],
   "source": [
    "from scipy.sparse import csr_matrix\n",
    "sparse_matrix = csr_matrix(user_item_matrix_scaled)\n",
    "sparse_matrix.shape"
   ]
  },
  {
   "cell_type": "markdown",
   "id": "13241e4b",
   "metadata": {},
   "source": [
    "# Collaborative Filtering"
   ]
  },
  {
   "cell_type": "markdown",
   "id": "bb3539e5",
   "metadata": {},
   "source": [
    "### User-Based "
   ]
  },
  {
   "cell_type": "code",
   "execution_count": 48,
   "id": "cda5a67f",
   "metadata": {},
   "outputs": [
    {
     "data": {
      "text/plain": [
       "(12490, 12490)"
      ]
     },
     "execution_count": 48,
     "metadata": {},
     "output_type": "execute_result"
    }
   ],
   "source": [
    "from sklearn.metrics.pairwise import cosine_similarity\n",
    "user_similarity = cosine_similarity(sparse_matrix)\n",
    "user_similarity_df = pd.DataFrame(user_similarity, index=interaction_matrix.index, columns=interaction_matrix.index)\n",
    "user_similarity_df.shape"
   ]
  },
  {
   "cell_type": "code",
   "execution_count": 49,
   "id": "b2943f97",
   "metadata": {},
   "outputs": [
    {
     "data": {
      "text/plain": [
       "user_id\n",
       "8         1.000000\n",
       "67544     0.409109\n",
       "116866    0.332862\n",
       "219008    0.287466\n",
       "263325    0.147153\n",
       "            ...   \n",
       "92271     0.000000\n",
       "92278     0.000000\n",
       "92282     0.000000\n",
       "92283     0.000000\n",
       "278851    0.000000\n",
       "Name: 8, Length: 12490, dtype: float64"
      ]
     },
     "execution_count": 49,
     "metadata": {},
     "output_type": "execute_result"
    }
   ],
   "source": [
    "similar_users = user_similarity_df[8].sort_values(ascending=False)\n",
    "similar_users"
   ]
  },
  {
   "cell_type": "code",
   "execution_count": 50,
   "id": "ee8982e1",
   "metadata": {},
   "outputs": [],
   "source": [
    "def get_recommendations(user_id, top_n=5):\n",
    "    similar_users = user_similarity_df[user_id].sort_values(ascending=False).iloc[1:top_n+1].index\n",
    "    \n",
    "    recommended_books = interaction_matrix.loc[similar_users].mean(axis=0).sort_values(ascending=False).index\n",
    "    user_rated_books = interaction_matrix.loc[user_id][interaction_matrix.loc[user_id] > 0].index\n",
    "    recommended_books = [book for book in recommended_books if book not in user_rated_books]\n",
    "    \n",
    "    recommended_books = recommended_books[:top_n]\n",
    "    book_titles = df[df['ISBN'].isin(recommended_books)][['ISBN', 'title', 'book_rating', 'num_ratings', 'author', 'publisher', 'image_url']].drop_duplicates(subset='ISBN')\n",
    "    \n",
    "    return book_titles"
   ]
  },
  {
   "cell_type": "code",
   "execution_count": 51,
   "id": "e7b1d90e",
   "metadata": {},
   "outputs": [
    {
     "data": {
      "text/html": [
       "<div>\n",
       "<style scoped>\n",
       "    .dataframe tbody tr th:only-of-type {\n",
       "        vertical-align: middle;\n",
       "    }\n",
       "\n",
       "    .dataframe tbody tr th {\n",
       "        vertical-align: top;\n",
       "    }\n",
       "\n",
       "    .dataframe thead th {\n",
       "        text-align: right;\n",
       "    }\n",
       "</style>\n",
       "<table border=\"1\" class=\"dataframe\">\n",
       "  <thead>\n",
       "    <tr style=\"text-align: right;\">\n",
       "      <th></th>\n",
       "      <th>ISBN</th>\n",
       "      <th>title</th>\n",
       "      <th>book_rating</th>\n",
       "      <th>num_ratings</th>\n",
       "      <th>author</th>\n",
       "      <th>publisher</th>\n",
       "      <th>image_url</th>\n",
       "    </tr>\n",
       "  </thead>\n",
       "  <tbody>\n",
       "    <tr>\n",
       "      <th>1364</th>\n",
       "      <td>0743225406</td>\n",
       "      <td>The Shipping News : A Novel</td>\n",
       "      <td>2.268116</td>\n",
       "      <td>138</td>\n",
       "      <td>Annie Proulx</td>\n",
       "      <td>Scribner</td>\n",
       "      <td>http://images.amazon.com/images/P/0743225406.0...</td>\n",
       "    </tr>\n",
       "    <tr>\n",
       "      <th>2626</th>\n",
       "      <td>067976402X</td>\n",
       "      <td>Snow Falling on Cedars</td>\n",
       "      <td>2.649667</td>\n",
       "      <td>451</td>\n",
       "      <td>David Guterson</td>\n",
       "      <td>Vintage Books USA</td>\n",
       "      <td>http://images.amazon.com/images/P/067976402X.0...</td>\n",
       "    </tr>\n",
       "    <tr>\n",
       "      <th>8155</th>\n",
       "      <td>038079487X</td>\n",
       "      <td>What Looks Like Crazy On An Ordinary Day</td>\n",
       "      <td>3.109756</td>\n",
       "      <td>164</td>\n",
       "      <td>Pearl Cleage</td>\n",
       "      <td>Perennial</td>\n",
       "      <td>http://images.amazon.com/images/P/038079487X.0...</td>\n",
       "    </tr>\n",
       "    <tr>\n",
       "      <th>15117</th>\n",
       "      <td>0020811853</td>\n",
       "      <td>POSTCARDS</td>\n",
       "      <td>1.750000</td>\n",
       "      <td>16</td>\n",
       "      <td>E. Annie Proulx</td>\n",
       "      <td>Scribner Paper Fiction</td>\n",
       "      <td>http://images.amazon.com/images/P/0020811853.0...</td>\n",
       "    </tr>\n",
       "    <tr>\n",
       "      <th>15246</th>\n",
       "      <td>0060953691</td>\n",
       "      <td>La Cucina: A Novel of Rapture</td>\n",
       "      <td>4.111111</td>\n",
       "      <td>18</td>\n",
       "      <td>Lily Prior</td>\n",
       "      <td>Ecco</td>\n",
       "      <td>http://images.amazon.com/images/P/0060953691.0...</td>\n",
       "    </tr>\n",
       "  </tbody>\n",
       "</table>\n",
       "</div>"
      ],
      "text/plain": [
       "             ISBN                                     title  book_rating  \\\n",
       "1364   0743225406               The Shipping News : A Novel     2.268116   \n",
       "2626   067976402X                    Snow Falling on Cedars     2.649667   \n",
       "8155   038079487X  What Looks Like Crazy On An Ordinary Day     3.109756   \n",
       "15117  0020811853                                 POSTCARDS     1.750000   \n",
       "15246  0060953691             La Cucina: A Novel of Rapture     4.111111   \n",
       "\n",
       "       num_ratings           author               publisher  \\\n",
       "1364           138     Annie Proulx                Scribner   \n",
       "2626           451   David Guterson       Vintage Books USA   \n",
       "8155           164     Pearl Cleage               Perennial   \n",
       "15117           16  E. Annie Proulx  Scribner Paper Fiction   \n",
       "15246           18       Lily Prior                    Ecco   \n",
       "\n",
       "                                               image_url  \n",
       "1364   http://images.amazon.com/images/P/0743225406.0...  \n",
       "2626   http://images.amazon.com/images/P/067976402X.0...  \n",
       "8155   http://images.amazon.com/images/P/038079487X.0...  \n",
       "15117  http://images.amazon.com/images/P/0020811853.0...  \n",
       "15246  http://images.amazon.com/images/P/0060953691.0...  "
      ]
     },
     "execution_count": 51,
     "metadata": {},
     "output_type": "execute_result"
    }
   ],
   "source": [
    "recommended_books = get_recommendations(user_id=8)\n",
    "recommended_books"
   ]
  },
  {
   "cell_type": "markdown",
   "id": "fd411853",
   "metadata": {},
   "source": [
    "### Item-Based"
   ]
  },
  {
   "cell_type": "code",
   "execution_count": 52,
   "id": "8f051014",
   "metadata": {},
   "outputs": [
    {
     "data": {
      "text/plain": [
       "(14755, 14755)"
      ]
     },
     "execution_count": 52,
     "metadata": {},
     "output_type": "execute_result"
    }
   ],
   "source": [
    "item_similarity = cosine_similarity(sparse_matrix.T)\n",
    "item_similarity_df = pd.DataFrame(item_similarity, index=interaction_matrix.columns, columns=interaction_matrix.columns)\n",
    "item_similarity_df.shape"
   ]
  },
  {
   "cell_type": "code",
   "execution_count": 53,
   "id": "cec9d08a",
   "metadata": {},
   "outputs": [
    {
     "data": {
      "text/plain": [
       "ISBN\n",
       "034544003X    1.000000\n",
       "0440237033    0.749677\n",
       "0892967803    0.748667\n",
       "0345456521    0.649283\n",
       "0066214718    0.634956\n",
       "                ...   \n",
       "0399151605    0.000000\n",
       "0399151613    0.000000\n",
       "0399151648    0.000000\n",
       "0399230033    0.000000\n",
       "B00009EF82    0.000000\n",
       "Name: 034544003X, Length: 14755, dtype: float64"
      ]
     },
     "execution_count": 53,
     "metadata": {},
     "output_type": "execute_result"
    }
   ],
   "source": [
    "similar_books = item_similarity_df['034544003X'].sort_values(ascending=False)\n",
    "similar_books"
   ]
  },
  {
   "cell_type": "code",
   "execution_count": 54,
   "id": "a5a8986a",
   "metadata": {},
   "outputs": [],
   "source": [
    "def get_item_recommendations(book_name, top_n=5):\n",
    "    book_isbn = df[df['title'] == book_name]['ISBN'].values\n",
    "\n",
    "    if len(book_isbn) == 0:\n",
    "        return f\"Book '{book_name}' not found in the dataset.\"\n",
    "\n",
    "    book_isbn = book_isbn[0]\n",
    "\n",
    "    if book_isbn not in item_similarity_df.index:\n",
    "        return f\"ISBN {book_isbn} not found in the similarity matrix.\"\n",
    "\n",
    "    similar_items = item_similarity_df[book_isbn].sort_values(ascending=False)\n",
    "    similar_items = similar_items.drop(book_isbn, errors=\"ignore\")\n",
    "\n",
    "    top_items = similar_items.head(top_n).index.tolist()\n",
    "    recommended_books = df[df['ISBN'].isin(top_items)][['ISBN', 'title', 'book_rating', 'num_ratings', 'author', 'publisher', 'image_url']].drop_duplicates(subset='ISBN')\n",
    "    return recommended_books"
   ]
  },
  {
   "cell_type": "code",
   "execution_count": 55,
   "id": "e7f623da",
   "metadata": {},
   "outputs": [
    {
     "data": {
      "text/html": [
       "<div>\n",
       "<style scoped>\n",
       "    .dataframe tbody tr th:only-of-type {\n",
       "        vertical-align: middle;\n",
       "    }\n",
       "\n",
       "    .dataframe tbody tr th {\n",
       "        vertical-align: top;\n",
       "    }\n",
       "\n",
       "    .dataframe thead th {\n",
       "        text-align: right;\n",
       "    }\n",
       "</style>\n",
       "<table border=\"1\" class=\"dataframe\">\n",
       "  <thead>\n",
       "    <tr style=\"text-align: right;\">\n",
       "      <th></th>\n",
       "      <th>ISBN</th>\n",
       "      <th>title</th>\n",
       "      <th>book_rating</th>\n",
       "      <th>num_ratings</th>\n",
       "      <th>author</th>\n",
       "      <th>publisher</th>\n",
       "      <th>image_url</th>\n",
       "    </tr>\n",
       "  </thead>\n",
       "  <tbody>\n",
       "    <tr>\n",
       "      <th>1382</th>\n",
       "      <td>0439139600</td>\n",
       "      <td>Harry Potter and the Goblet of Fire (Book 4)</td>\n",
       "      <td>4.884146</td>\n",
       "      <td>164</td>\n",
       "      <td>J. K. Rowling</td>\n",
       "      <td>Scholastic Paperbacks</td>\n",
       "      <td>http://images.amazon.com/images/P/0439139600.0...</td>\n",
       "    </tr>\n",
       "    <tr>\n",
       "      <th>1383</th>\n",
       "      <td>043935806X</td>\n",
       "      <td>Harry Potter and the Order of the Phoenix (Boo...</td>\n",
       "      <td>5.494505</td>\n",
       "      <td>273</td>\n",
       "      <td>J. K. Rowling</td>\n",
       "      <td>Scholastic</td>\n",
       "      <td>http://images.amazon.com/images/P/043935806X.0...</td>\n",
       "    </tr>\n",
       "    <tr>\n",
       "      <th>2560</th>\n",
       "      <td>0439136350</td>\n",
       "      <td>Harry Potter and the Prisoner of Azkaban (Book 3)</td>\n",
       "      <td>6.560976</td>\n",
       "      <td>164</td>\n",
       "      <td>J. K. Rowling</td>\n",
       "      <td>Scholastic</td>\n",
       "      <td>http://images.amazon.com/images/P/0439136350.0...</td>\n",
       "    </tr>\n",
       "    <tr>\n",
       "      <th>2562</th>\n",
       "      <td>0439139597</td>\n",
       "      <td>Harry Potter and the Goblet of Fire (Book 4)</td>\n",
       "      <td>6.564103</td>\n",
       "      <td>156</td>\n",
       "      <td>J. K. Rowling</td>\n",
       "      <td>Scholastic</td>\n",
       "      <td>http://images.amazon.com/images/P/0439139597.0...</td>\n",
       "    </tr>\n",
       "    <tr>\n",
       "      <th>2613</th>\n",
       "      <td>0590353403</td>\n",
       "      <td>Harry Potter and the Sorcerer's Stone (Book 1)</td>\n",
       "      <td>6.386861</td>\n",
       "      <td>137</td>\n",
       "      <td>J. K. Rowling</td>\n",
       "      <td>Scholastic</td>\n",
       "      <td>http://images.amazon.com/images/P/0590353403.0...</td>\n",
       "    </tr>\n",
       "  </tbody>\n",
       "</table>\n",
       "</div>"
      ],
      "text/plain": [
       "            ISBN                                              title  \\\n",
       "1382  0439139600       Harry Potter and the Goblet of Fire (Book 4)   \n",
       "1383  043935806X  Harry Potter and the Order of the Phoenix (Boo...   \n",
       "2560  0439136350  Harry Potter and the Prisoner of Azkaban (Book 3)   \n",
       "2562  0439139597       Harry Potter and the Goblet of Fire (Book 4)   \n",
       "2613  0590353403     Harry Potter and the Sorcerer's Stone (Book 1)   \n",
       "\n",
       "      book_rating  num_ratings         author              publisher  \\\n",
       "1382     4.884146          164  J. K. Rowling  Scholastic Paperbacks   \n",
       "1383     5.494505          273  J. K. Rowling             Scholastic   \n",
       "2560     6.560976          164  J. K. Rowling             Scholastic   \n",
       "2562     6.564103          156  J. K. Rowling             Scholastic   \n",
       "2613     6.386861          137  J. K. Rowling             Scholastic   \n",
       "\n",
       "                                              image_url  \n",
       "1382  http://images.amazon.com/images/P/0439139600.0...  \n",
       "1383  http://images.amazon.com/images/P/043935806X.0...  \n",
       "2560  http://images.amazon.com/images/P/0439136350.0...  \n",
       "2562  http://images.amazon.com/images/P/0439139597.0...  \n",
       "2613  http://images.amazon.com/images/P/0590353403.0...  "
      ]
     },
     "execution_count": 55,
     "metadata": {},
     "output_type": "execute_result"
    }
   ],
   "source": [
    "recommended_books = get_item_recommendations(book_name=\"Harry Potter and the Chamber of Secrets (Book 2)\")\n",
    "recommended_books"
   ]
  },
  {
   "cell_type": "code",
   "execution_count": null,
   "id": "e00da607",
   "metadata": {},
   "outputs": [],
   "source": []
  }
 ],
 "metadata": {
  "kernelspec": {
   "display_name": "Python 3",
   "language": "python",
   "name": "python3"
  },
  "language_info": {
   "codemirror_mode": {
    "name": "ipython",
    "version": 3
   },
   "file_extension": ".py",
   "mimetype": "text/x-python",
   "name": "python",
   "nbconvert_exporter": "python",
   "pygments_lexer": "ipython3",
   "version": "3.12.6"
  }
 },
 "nbformat": 4,
 "nbformat_minor": 5
}
